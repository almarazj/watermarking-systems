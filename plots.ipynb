{
 "cells": [
  {
   "cell_type": "code",
   "execution_count": null,
   "metadata": {
    "vscode": {
     "languageId": "plaintext"
    }
   },
   "outputs": [],
   "source": [
    "def plot_results(original, watermark_signal, watermarked_signal, sr, filename, results_folder):\n",
    "    \"\"\"\n",
    "    Plots the spectrograms of the original audio, the watermark signal, and the watermarked audio.\n",
    "    All spectrograms are normalized to the same reference decibel level (0 dB) for comparison.\n",
    "    The dB range is limited between 0 dB and -80 dB for all plots.\n",
    "\n",
    "    Args:\n",
    "        original (np.array): Original audio signal.\n",
    "        watermark_signal (np.array): The watermark signal.\n",
    "        watermarked_signal (np.array): The audio signal with watermark applied.\n",
    "        sr (int): Sampling rate of the audio signals.\n",
    "        filename (str): The name of the audio file (for the title).\n",
    "    \"\"\"\n",
    "    # Compute the Short-Time Fourier Transform (STFT) for each signal\n",
    "    original_stft = np.abs(librosa.stft(original))\n",
    "    watermark_stft = np.abs(librosa.stft(watermark_signal))\n",
    "    watermarked_stft = np.abs(librosa.stft(watermarked_signal))\n",
    "    \n",
    "    # Find the maximum value across all STFTs to use as the reference for dB conversion\n",
    "    max_value = max(original_stft.max(), watermark_stft.max(), watermarked_stft.max())\n",
    "    \n",
    "    # Convert the STFTs to decibel scale using the same reference\n",
    "    original_spectrogram = librosa.amplitude_to_db(original_stft, ref=max_value)\n",
    "    watermark_spectrogram = librosa.amplitude_to_db(watermark_stft, ref=max_value)\n",
    "    watermarked_spectrogram = librosa.amplitude_to_db(watermarked_stft, ref=max_value)\n",
    "\n",
    "    # Clip the dB range between 0 dB and -80 dB\n",
    "    original_spectrogram = np.clip(original_spectrogram, -80, 0)\n",
    "    watermark_spectrogram = np.clip(watermark_spectrogram, -80, 0)\n",
    "    watermarked_spectrogram = np.clip(watermarked_spectrogram, -80, 0)\n",
    "\n",
    "    # Create a figure with three subplots\n",
    "    plt.figure(figsize=(18, 6))\n",
    "\n",
    "    # Plot the original audio spectrogram\n",
    "    plt.subplot(1, 3, 1)\n",
    "    librosa.display.specshow(original_spectrogram, sr=sr, x_axis='time', y_axis='log', vmin=-80, vmax=0)\n",
    "    plt.colorbar(format='%+2.0f dB')\n",
    "    plt.title(f'Audio original - {filename}')\n",
    "\n",
    "    # Plot the watermark signal spectrogram\n",
    "    plt.subplot(1, 3, 2)\n",
    "    librosa.display.specshow(watermark_spectrogram, sr=sr, x_axis='time', y_axis='log', vmin=-80, vmax=0)\n",
    "    plt.colorbar(format='%+2.0f dB')\n",
    "    plt.title('Marca de agua')\n",
    "\n",
    "    # Plot the watermarked audio spectrogram\n",
    "    plt.subplot(1, 3, 3)\n",
    "    librosa.display.specshow(watermarked_spectrogram, sr=sr, x_axis='time', y_axis='log', vmin=-80, vmax=0)\n",
    "    plt.colorbar(format='%+2.0f dB')\n",
    "    plt.title('Audio + marca de agua')\n",
    "\n",
    "    # Show plot\n",
    "    plt.tight_layout()\n",
    "    output_file_path = results_folder / f\"spectrogram_{filename}.png\"\n",
    "    plt.savefig(output_file_path, format='png')\n",
    "    plt.close()  # Close the figure to free memory"
   ]
  }
 ],
 "metadata": {
  "language_info": {
   "name": "python"
  }
 },
 "nbformat": 4,
 "nbformat_minor": 2
}
